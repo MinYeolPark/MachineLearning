{
 "cells": [
  {
   "cell_type": "code",
   "execution_count": 1,
   "id": "0dde4609",
   "metadata": {},
   "outputs": [],
   "source": [
    "import torch\n",
    "import torch.nn as nn\n",
    "import torch.nn.functional as F\n",
    "import torch.optim as optim"
   ]
  },
  {
   "cell_type": "code",
   "execution_count": 3,
   "id": "fb3a9d6a",
   "metadata": {},
   "outputs": [
    {
     "data": {
      "text/plain": [
       "<torch._C.Generator at 0x25f5ff865f0>"
      ]
     },
     "execution_count": 3,
     "metadata": {},
     "output_type": "execute_result"
    }
   ],
   "source": [
    "torch.manual_seed(1)"
   ]
  },
  {
   "cell_type": "code",
   "execution_count": 4,
   "id": "08b21182",
   "metadata": {},
   "outputs": [],
   "source": [
    "x1_train=torch.FloatTensor([[73],[93],[89],[96],[73]])\n",
    "x2_train=torch.FloatTensor([[80],[88],[91],[98],[66]])\n",
    "x3_train=torch.FloatTensor([[75],[93],[90],[100],[70]])\n",
    "y_train=torch.FloatTensor([[152],[185],[180],[196],[142]])                        \n",
    "                            "
   ]
  },
  {
   "cell_type": "code",
   "execution_count": 5,
   "id": "ff9b2767",
   "metadata": {},
   "outputs": [
    {
     "data": {
      "text/plain": [
       "tensor([[73.],\n",
       "        [93.],\n",
       "        [89.],\n",
       "        [96.],\n",
       "        [73.]])"
      ]
     },
     "execution_count": 5,
     "metadata": {},
     "output_type": "execute_result"
    }
   ],
   "source": [
    "x1_train"
   ]
  },
  {
   "cell_type": "code",
   "execution_count": 8,
   "id": "d29ffc33",
   "metadata": {},
   "outputs": [
    {
     "name": "stdout",
     "output_type": "stream",
     "text": [
      "Epoch    0/1000  W: 0.294,  b:0.294   Cost:0.297380\n",
      "Epoch  100/1000  W: 0.674,  b:0.661   Cost:0.676231\n",
      "Epoch  200/1000  W: 0.679,  b:0.655   Cost:0.676784\n",
      "Epoch  300/1000  W: 0.684,  b:0.649   Cost:0.677305\n",
      "Epoch  400/1000  W: 0.689,  b:0.643   Cost:0.677795\n",
      "Epoch  500/1000  W: 0.694,  b:0.638   Cost:0.678255\n",
      "Epoch  600/1000  W: 0.699,  b:0.633   Cost:0.678686\n",
      "Epoch  700/1000  W: 0.704,  b:0.627   Cost:0.679088\n",
      "Epoch  800/1000  W: 0.709,  b:0.622   Cost:0.679464\n",
      "Epoch  900/1000  W: 0.713,  b:0.617   Cost:0.679811\n",
      "Epoch 1000/1000  W: 0.718,  b:0.613   Cost:0.680133\n"
     ]
    }
   ],
   "source": [
    "w1=torch.zeros(1,requires_grad=True)\n",
    "w2=torch.zeros(1,requires_grad=True)\n",
    "w3=torch.zeros(1,requires_grad=True)\n",
    "b=torch.zeros(1,requires_grad=True)\n",
    "\n",
    "optimizer=optim.SGD([w1,w2,w3,b],lr=1e-5)\n",
    "\n",
    "nb_epochs=1000\n",
    "for epoch in range(nb_epochs+1):\n",
    "    #H(x)계산\n",
    "    hypothesis=x1_train*w1+x2_train*w2+x3_train*w3+b\n",
    "    \n",
    "    #cost 계산\n",
    "    cost=torch.mean((hypothesis-y_train)**2)\n",
    "    \n",
    "    #cost로 H(x)개선\n",
    "    optimizer.zero_grad()\n",
    "    cost.backward()\n",
    "    optimizer.step()\n",
    "    \n",
    "    if epoch %100==0:\n",
    "         print('Epoch {:4d}/{}  W: {:.3f},  b:{:.3f}   Cost:{:.6f}'.format(\n",
    "        epoch,nb_epochs,w1.item(),w2.item(),w3.item(),b,cost.item()\n",
    "        ))"
   ]
  },
  {
   "cell_type": "code",
   "execution_count": 12,
   "id": "d87fb2a6",
   "metadata": {},
   "outputs": [],
   "source": [
    "class MultivariateLinearRegressionModel(nn.Module):\n",
    "    def __init__(self):\n",
    "        super().__init__()\n",
    "        self.linear = nn.Linear(3, 1)\n",
    "\n",
    "    def forward(self, x):\n",
    "        return self.linear(x)"
   ]
  },
  {
   "cell_type": "code",
   "execution_count": 25,
   "id": "3d0cf308",
   "metadata": {},
   "outputs": [
    {
     "name": "stdout",
     "output_type": "stream",
     "text": [
      "Epoch    0/20  Cost: 57621.960938\n",
      "Epoch    1/20  Cost: 18063.447266\n",
      "Epoch    2/20  Cost: 5663.946289\n",
      "Epoch    3/20  Cost: 1777.360962\n",
      "Epoch    4/20  Cost: 559.121582\n",
      "Epoch    5/20  Cost: 177.267273\n",
      "Epoch    6/20  Cost: 57.575096\n",
      "Epoch    7/20  Cost: 20.057009\n",
      "Epoch    8/20  Cost: 8.296073\n",
      "Epoch    9/20  Cost: 4.608622\n",
      "Epoch   10/20  Cost: 3.451724\n",
      "Epoch   11/20  Cost: 3.088111\n",
      "Epoch   12/20  Cost: 2.973125\n",
      "Epoch   13/20  Cost: 2.936048\n",
      "Epoch   14/20  Cost: 2.923416\n",
      "Epoch   15/20  Cost: 2.918417\n",
      "Epoch   16/20  Cost: 2.915869\n",
      "Epoch   17/20  Cost: 2.914025\n",
      "Epoch   18/20  Cost: 2.912448\n",
      "Epoch   19/20  Cost: 2.910933\n",
      "Epoch   20/20  Cost: 2.909442\n"
     ]
    }
   ],
   "source": [
    "x_train=torch.FloatTensor([[73,80,75],\n",
    "                          [93,88,93],\n",
    "                          [89,91,90],\n",
    "                          [96,98,100],\n",
    "                          [73,66,70]])\n",
    "\n",
    "y_train=torch.FloatTensor([[152],[185],[180],[196],[142]])\n",
    "\n",
    "model=MultivariateLinearRegressionModel()\n",
    "\n",
    "optimizer=optim.SGD(model.parameters(),lr=1e-5)\n",
    "\n",
    "nb_epochs=20\n",
    "for epoch in range(nb_epochs+1):\n",
    "    \n",
    "    #H(w)계산\n",
    "    prediction=model(x_train)\n",
    "    \n",
    "    #cost 계산\n",
    "    cost=F.mse_loss(prediction,y_train)\n",
    "    \n",
    "    #cost로 H(w)개선\n",
    "    optimizer.zero_grad()\n",
    "    cost.backward()\n",
    "    optimizer.step()\n",
    "    \n",
    "    print(\"Epoch {:4d}/{}  Cost: {:.6f}\".format(\n",
    "     epoch,nb_epochs,cost.item()\n",
    "    ))"
   ]
  },
  {
   "cell_type": "code",
   "execution_count": null,
   "id": "9134fa2f",
   "metadata": {},
   "outputs": [],
   "source": []
  }
 ],
 "metadata": {
  "kernelspec": {
   "display_name": "Python 3",
   "language": "python",
   "name": "python3"
  },
  "language_info": {
   "codemirror_mode": {
    "name": "ipython",
    "version": 3
   },
   "file_extension": ".py",
   "mimetype": "text/x-python",
   "name": "python",
   "nbconvert_exporter": "python",
   "pygments_lexer": "ipython3",
   "version": "3.8.8"
  }
 },
 "nbformat": 4,
 "nbformat_minor": 5
}
