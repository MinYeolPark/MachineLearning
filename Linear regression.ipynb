{
 "cells": [
  {
   "cell_type": "markdown",
   "id": "c558b57d",
   "metadata": {},
   "source": [
    "# 안녕하세요\n",
    "## 안녕하세요\n",
    "### 안녕하세요\n",
    "* 안녕하세요\n",
    "- 안녕하세요"
   ]
  },
  {
   "cell_type": "code",
   "execution_count": null,
   "id": "b85d8856",
   "metadata": {},
   "outputs": [],
   "source": [
    "import torch\n",
    "import torch.nn as nn\n",
    "import torch.nn.functional as F\n",
    "import torch.optim as optim"
   ]
  },
  {
   "cell_type": "markdown",
   "id": "7d07003b",
   "metadata": {},
   "source": [
    "## Data\n",
    "\n",
    "- we will use fake data for this example"
   ]
  },
  {
   "cell_type": "code",
   "execution_count": 3,
   "id": "88bf8613",
   "metadata": {},
   "outputs": [
    {
     "data": {
      "text/plain": [
       "<torch._C.Generator at 0x19769cd5570>"
      ]
     },
     "execution_count": 3,
     "metadata": {},
     "output_type": "execute_result"
    }
   ],
   "source": [
    "torch.manual_seed(1)"
   ]
  },
  {
   "cell_type": "code",
   "execution_count": 5,
   "id": "57998327",
   "metadata": {},
   "outputs": [],
   "source": [
    "x_train=torch.FloatTensor([[1],[2],[3]])\n",
    "y_train=torch.FloatTensor([[1],[2],[3]])"
   ]
  },
  {
   "cell_type": "code",
   "execution_count": 10,
   "id": "bed77ced",
   "metadata": {},
   "outputs": [
    {
     "name": "stdout",
     "output_type": "stream",
     "text": [
      "tensor([[1.],\n",
      "        [2.],\n",
      "        [3.]])\n",
      "torch.Size([3, 1])\n",
      "torch.Size([3, 1])\n"
     ]
    }
   ],
   "source": [
    "print(x_train)\n",
    "print(x_train.shape)\n",
    "print(x_train.size())"
   ]
  },
  {
   "cell_type": "markdown",
   "id": "65b097b8",
   "metadata": {},
   "source": [
    "### Weight Initialization"
   ]
  },
  {
   "cell_type": "code",
   "execution_count": 11,
   "id": "86bda3a0",
   "metadata": {},
   "outputs": [
    {
     "name": "stdout",
     "output_type": "stream",
     "text": [
      "tensor([0.], requires_grad=True)\n"
     ]
    }
   ],
   "source": [
    "W=torch.zeros(1,requires_grad=True) #미분이 가능한 1나의차원 0 생성\n",
    "print(W)"
   ]
  },
  {
   "cell_type": "code",
   "execution_count": 12,
   "id": "06dea23d",
   "metadata": {},
   "outputs": [
    {
     "name": "stdout",
     "output_type": "stream",
     "text": [
      "tensor([0.], requires_grad=True)\n"
     ]
    }
   ],
   "source": [
    "b=torch.zeros(1,requires_grad=True)\n",
    "print(b)"
   ]
  },
  {
   "cell_type": "markdown",
   "id": "0fd5ae2e",
   "metadata": {},
   "source": [
    "### Hypothesis"
   ]
  },
  {
   "cell_type": "code",
   "execution_count": 15,
   "id": "018760c8",
   "metadata": {},
   "outputs": [
    {
     "name": "stdout",
     "output_type": "stream",
     "text": [
      "tensor([[0.],\n",
      "        [0.],\n",
      "        [0.]], grad_fn=<MulBackward0>)\n"
     ]
    }
   ],
   "source": [
    "hypothesis=x_train*W*b\n",
    "print(hypothesis)"
   ]
  },
  {
   "cell_type": "markdown",
   "id": "0886258a",
   "metadata": {},
   "source": [
    "### Cost"
   ]
  },
  {
   "cell_type": "code",
   "execution_count": 16,
   "id": "57b12cbf",
   "metadata": {},
   "outputs": [
    {
     "name": "stdout",
     "output_type": "stream",
     "text": [
      "tensor([[0.],\n",
      "        [0.],\n",
      "        [0.]], grad_fn=<MulBackward0>)\n"
     ]
    }
   ],
   "source": [
    "print(hypothesis)"
   ]
  },
  {
   "cell_type": "code",
   "execution_count": 17,
   "id": "8ca99d7e",
   "metadata": {},
   "outputs": [
    {
     "name": "stdout",
     "output_type": "stream",
     "text": [
      "tensor([[1.],\n",
      "        [2.],\n",
      "        [3.]])\n"
     ]
    }
   ],
   "source": [
    "print(y_train)"
   ]
  },
  {
   "cell_type": "code",
   "execution_count": 18,
   "id": "c579cf35",
   "metadata": {},
   "outputs": [
    {
     "name": "stdout",
     "output_type": "stream",
     "text": [
      "tensor([[-1.],\n",
      "        [-2.],\n",
      "        [-3.]], grad_fn=<SubBackward0>)\n"
     ]
    }
   ],
   "source": [
    "print(hypothesis-y_train)"
   ]
  },
  {
   "cell_type": "code",
   "execution_count": 20,
   "id": "ba7ba6b4",
   "metadata": {},
   "outputs": [
    {
     "name": "stdout",
     "output_type": "stream",
     "text": [
      "tensor([[1.],\n",
      "        [4.],\n",
      "        [9.]], grad_fn=<PowBackward0>)\n"
     ]
    }
   ],
   "source": [
    "print((hypothesis-y_train)**2)"
   ]
  },
  {
   "cell_type": "code",
   "execution_count": 24,
   "id": "98b300f6",
   "metadata": {},
   "outputs": [
    {
     "name": "stdout",
     "output_type": "stream",
     "text": [
      "tensor(4.6667, grad_fn=<MeanBackward0>)\n"
     ]
    }
   ],
   "source": [
    "cost=torch.mean((hypothesis-y_train)**2)\n",
    "print(cost)"
   ]
  },
  {
   "cell_type": "code",
   "execution_count": 26,
   "id": "29c58379",
   "metadata": {},
   "outputs": [],
   "source": [
    "optimizer=optim.SGD([W,b],lr=0.01)"
   ]
  },
  {
   "cell_type": "markdown",
   "id": "3e880626",
   "metadata": {},
   "source": [
    "## Full Code"
   ]
  },
  {
   "cell_type": "code",
   "execution_count": 37,
   "id": "f7c91209",
   "metadata": {},
   "outputs": [
    {
     "name": "stdout",
     "output_type": "stream",
     "text": [
      "Epoch    0/1000  W: 0.093,  b:0.040   Cost:4.666667\n",
      "Epoch  100/1000  W: 0.873,  b:0.289   Cost:0.012043\n",
      "Epoch  200/1000  W: 0.900,  b:0.227   Cost:0.007442\n",
      "Epoch  300/1000  W: 0.921,  b:0.179   Cost:0.004598\n",
      "Epoch  400/1000  W: 0.938,  b:0.140   Cost:0.002842\n",
      "Epoch  500/1000  W: 0.951,  b:0.110   Cost:0.001756\n",
      "Epoch  600/1000  W: 0.962,  b:0.087   Cost:0.001085\n",
      "Epoch  700/1000  W: 0.970,  b:0.068   Cost:0.000670\n",
      "Epoch  800/1000  W: 0.976,  b:0.054   Cost:0.000414\n",
      "Epoch  900/1000  W: 0.981,  b:0.042   Cost:0.000256\n",
      "Epoch 1000/1000  W: 0.985,  b:0.033   Cost:0.000158\n"
     ]
    }
   ],
   "source": [
    "#데이터\n",
    "x_train=torch.FloatTensor([[1],[2],[3]])\n",
    "y_train=torch.FloatTensor([[1],[2],[3]])\n",
    "\n",
    "#모델 초기화\n",
    "W=torch.zeros(1,requires_grad=True)\n",
    "b=torch.zeros(1,requires_grad=True)\n",
    "\n",
    "optimizer=optim.SGD([W,b],lr=0.01)\n",
    "\n",
    "nb_epochs=1000\n",
    "for epoch in range(nb_epochs+1):\n",
    "    \n",
    "    #H(w)계산\n",
    "    hypothesis=x_train*W+b\n",
    "    \n",
    "    #cost 계산\n",
    "    cost=torch.mean((hypothesis-y_train)**2)\n",
    "    \n",
    "    #cost로 H(w)개선\n",
    "    optimizer.zero_grad()\n",
    "    cost.backward()\n",
    "    optimizer.step()\n",
    "    \n",
    "    #100번마다 로그 출력\n",
    "    if epoch %100==0:\n",
    "        print('Epoch {:4d}/{}  W: {:.3f},  b:{:.3f}   Cost:{:.6f}'.format(\n",
    "        epoch,nb_epochs,W.item(),b.item(),cost.item()\n",
    "        ))\n",
    "                    "
   ]
  },
  {
   "cell_type": "markdown",
   "id": "309f96b1",
   "metadata": {},
   "source": [
    "## High-level Implementation with nn.module"
   ]
  },
  {
   "cell_type": "code",
   "execution_count": 38,
   "id": "ffdf5fa0",
   "metadata": {},
   "outputs": [],
   "source": []
  },
  {
   "cell_type": "code",
   "execution_count": 50,
   "id": "582caf6c",
   "metadata": {},
   "outputs": [],
   "source": [
    "class LinearRegressionModel(nn.Module):\n",
    "    def __init__(self):\n",
    "        super().__init__()\n",
    "        self.linear = nn.Linear(1, 1)\n",
    "\n",
    "    def forward(self, x):\n",
    "        return self.linear(x)\n"
   ]
  },
  {
   "cell_type": "code",
   "execution_count": 63,
   "id": "0ee44ec6",
   "metadata": {},
   "outputs": [
    {
     "name": "stdout",
     "output_type": "stream",
     "text": [
      "Epoch    0/1000  W: 0.896,  b:-0.158   Cost:0.178288\n",
      "Epoch  100/1000  W: 1.033,  b:-0.074   Cost:0.000794\n",
      "Epoch  200/1000  W: 1.026,  b:-0.058   Cost:0.000491\n",
      "Epoch  300/1000  W: 1.020,  b:-0.046   Cost:0.000303\n",
      "Epoch  400/1000  W: 1.016,  b:-0.036   Cost:0.000187\n",
      "Epoch  500/1000  W: 1.012,  b:-0.028   Cost:0.000116\n",
      "Epoch  600/1000  W: 1.010,  b:-0.022   Cost:0.000072\n",
      "Epoch  700/1000  W: 1.008,  b:-0.018   Cost:0.000044\n",
      "Epoch  800/1000  W: 1.006,  b:-0.014   Cost:0.000027\n",
      "Epoch  900/1000  W: 1.005,  b:-0.011   Cost:0.000017\n",
      "Epoch 1000/1000  W: 1.004,  b:-0.009   Cost:0.000010\n"
     ]
    }
   ],
   "source": [
    "#데이터\n",
    "x_train=torch.FloatTensor([[1],[2],[3]])\n",
    "y_train=torch.FloatTensor([[1],[2],[3]])\n",
    "\n",
    "#모델 초기화\n",
    "model=LinearRegressionModel()\n",
    "\n",
    "optimizer=optim.SGD(model.parameters(),lr=0.01)\n",
    "\n",
    "nb_epochs=1000\n",
    "for epoch in range(nb_epochs+1):\n",
    "    \n",
    "    #H(w)계산\n",
    "    prediction=model(x_train)\n",
    "    \n",
    "    #cost 계산\n",
    "    cost=F.mse_loss(prediction,y_train)\n",
    "    \n",
    "    #cost로 H(w)개선\n",
    "    optimizer.zero_grad()\n",
    "    cost.backward()\n",
    "    optimizer.step()\n",
    "    \n",
    "    #100번마다 로그 출력\n",
    "    if epoch %100==0:\n",
    "        params=list(model.parameters())\n",
    "        W=params[0].item()\n",
    "        b=params[1].item()\n",
    "        \n",
    "        print('Epoch {:4d}/{}  W: {:.3f},  b:{:.3f}   Cost:{:.6f}'.format(\n",
    "        epoch,nb_epochs,W,b,cost.item()\n",
    "        ))\n",
    "            "
   ]
  },
  {
   "cell_type": "code",
   "execution_count": null,
   "id": "3e9aed59",
   "metadata": {},
   "outputs": [],
   "source": []
  }
 ],
 "metadata": {
  "kernelspec": {
   "display_name": "Python 3",
   "language": "python",
   "name": "python3"
  },
  "language_info": {
   "codemirror_mode": {
    "name": "ipython",
    "version": 3
   },
   "file_extension": ".py",
   "mimetype": "text/x-python",
   "name": "python",
   "nbconvert_exporter": "python",
   "pygments_lexer": "ipython3",
   "version": "3.8.8"
  }
 },
 "nbformat": 4,
 "nbformat_minor": 5
}
